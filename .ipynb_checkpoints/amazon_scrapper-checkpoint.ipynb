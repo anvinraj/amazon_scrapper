{
 "cells": [
  {
   "cell_type": "code",
   "execution_count": null,
   "id": "2ca3daa8",
   "metadata": {},
   "outputs": [],
   "source": [
    "#Installing required Packages\n",
    "!pip install selenium\n",
    "!pip install webdriver_manager\n"
   ]
  },
  {
   "cell_type": "code",
   "execution_count": 1,
   "id": "d851cb97",
   "metadata": {},
   "outputs": [],
   "source": [
    "#Importing packages\n",
    "from selenium import webdriver\n",
    "from webdriver_manager.chrome import ChromeDriverManager\n",
    "from selenium.webdriver.chrome.options import Options\n",
    "from selenium.webdriver.support.ui import WebDriverWait\n",
    "from selenium.webdriver.support import expected_conditions as ec\n",
    "from selenium.webdriver.common.by import By\n",
    "\n",
    "import re\n",
    "import time"
   ]
  },
  {
   "cell_type": "code",
   "execution_count": 20,
   "id": "0cc2862d",
   "metadata": {},
   "outputs": [
    {
     "name": "stderr",
     "output_type": "stream",
     "text": [
      "\n",
      "\n",
      "====== WebDriver manager ======\n",
      "Current google-chrome version is 97.0.4692\n",
      "Get LATEST chromedriver version for 97.0.4692 google-chrome\n",
      "Driver [C:\\Users\\anvin\\.wdm\\drivers\\chromedriver\\win32\\97.0.4692.71\\chromedriver.exe] found in cache\n",
      "C:\\Users\\anvin\\AppData\\Local\\Temp/ipykernel_6560/2433240595.py:4: DeprecationWarning: executable_path has been deprecated, please pass in a Service object\n",
      "  browser = webdriver.Chrome(ChromeDriverManager().install(),chrome_options=chrome_options)\n",
      "C:\\Users\\anvin\\AppData\\Local\\Temp/ipykernel_6560/2433240595.py:4: DeprecationWarning: use options instead of chrome_options\n",
      "  browser = webdriver.Chrome(ChromeDriverManager().install(),chrome_options=chrome_options)\n"
     ]
    }
   ],
   "source": [
    "#Setting chrome options\n",
    "chrome_options = Options()\n",
    "chrome_options.add_argument(\"--start-maximized\")\n",
    "browser = webdriver.Chrome(ChromeDriverManager().install(),chrome_options=chrome_options)"
   ]
  },
  {
   "cell_type": "code",
   "execution_count": 21,
   "id": "d6ac8d27",
   "metadata": {},
   "outputs": [],
   "source": [
    "wait = WebDriverWait(browser, 5)"
   ]
  },
  {
   "cell_type": "code",
   "execution_count": 22,
   "id": "eb487db5",
   "metadata": {
    "scrolled": true
   },
   "outputs": [],
   "source": [
    "#Invoking  browser with url\n",
    "#smartphone_url='https://www.amazon.in/s?rh=n%3A1805560031&fs=true&ref=lp_1805560031_sar'\n",
    "smartphone_url='https://www.amazon.in/s?i=electronics&bbn=1805560031&rh=n%3A1805560031%2Cp_89%3ATecno&dc&fs=true&qid=1642520011&rnid=3837712031&ref=sr_nr_p_89_6'\n",
    "browser.get(smartphone_url)"
   ]
  },
  {
   "cell_type": "code",
   "execution_count": 23,
   "id": "a9d5f57c",
   "metadata": {},
   "outputs": [],
   "source": [
    "def get_lastpage_number():\n",
    "    try:\n",
    "        xpath_pagination = '//ul[@class=\"a-pagination\"]'\n",
    "        last_page_obj = wait.until(ec.visibility_of_element_located((By.XPATH, xpath_pagination)))\n",
    "        last_page_text = last_page_obj.text\n",
    "        last_page_match_obj = re.search(r'(\\d+)\\nNext', last_page_text)\n",
    "        last_page = last_page_match_obj.group(1).strip() if last_page_match_obj != None else ''        \n",
    "    except Exception as e:\n",
    "        try:\n",
    "            xpath_pagination = '//span[@class=\"s-pagination-strip\"]'\n",
    "            last_page_obj = wait.until(ec.visibility_of_element_located((By.XPATH, xpath_pagination)))\n",
    "            last_page_text = last_page_obj.text\n",
    "            last_page_match_obj = re.search(r'(\\d+)\\nNext', last_page_text)\n",
    "            last_page = last_page_match_obj.group(1).strip() if last_page_match_obj != None else ''   \n",
    "        except Exception as e:\n",
    "            print(e)\n",
    "            last_page=''\n",
    "    return last_page"
   ]
  },
  {
   "cell_type": "code",
   "execution_count": 28,
   "id": "ca89956d",
   "metadata": {},
   "outputs": [
    {
     "name": "stdout",
     "output_type": "stream",
     "text": [
      "Number of pages to scrape :  3\n",
      "https://www.amazon.in/Tecno-5000mAh-Camera-Splash-Resistant/dp/B09PRDHRKV/ref=sr_1_1?qid=1642608817&refinements=p_89%3ATecno&rnid=3837712031&s=electronics&sr=1-1\n",
      "https://www.amazon.in/Tecno-Turquoise-5000mAh-Camera-Resistant/dp/B09PRFR3WR/ref=sr_1_2?qid=1642608817&refinements=p_89%3ATecno&rnid=3837712031&s=electronics&sr=1-2\n",
      "https://www.amazon.in/Tecno-Spark-8T-Turquoise-64GB/dp/B09MKP344P/ref=sr_1_3?qid=1642608817&refinements=p_89%3ATecno&rnid=3837712031&s=electronics&sr=1-3\n",
      "https://www.amazon.in/Tecno-Spark-8T-Atlantic-64GB/dp/B09MKPX6RQ/ref=sr_1_4?qid=1642608817&refinements=p_89%3ATecno&rnid=3837712031&s=electronics&sr=1-4\n",
      "https://www.amazon.in/Tecno-Spark-Pro-Turquoise-64GB/dp/B09MZ67H1H/ref=sr_1_5?qid=1642608817&refinements=p_89%3ATecno&rnid=3837712031&s=electronics&sr=1-5\n",
      "https://www.amazon.in/Tecno-Spark-Pro-Interstellar-64GB/dp/B09MWCWRMP/ref=sr_1_6?qid=1642608817&refinements=p_89%3ATecno&rnid=3837712031&s=electronics&sr=1-6\n",
      "https://www.amazon.in/Tecno-Spark-Morpheus-Blue-Storage/dp/B09FP6JWC4/ref=sr_1_7?qid=1642608817&refinements=p_89%3ATecno&rnid=3837712031&s=electronics&sr=1-7\n",
      "https://www.amazon.in/Tecno-POVA-Storage-7000mAh-Battery/dp/B09B41TY3K/ref=sr_1_8?qid=1642608817&refinements=p_89%3ATecno&rnid=3837712031&s=electronics&sr=1-8\n",
      "https://www.amazon.in/Tecno-Spark-Go-2021-32GB/dp/B097T59Q4S/ref=sr_1_9?qid=1642608817&refinements=p_89%3ATecno&rnid=3837712031&s=electronics&sr=1-9\n",
      "https://www.amazon.in/Tecno-Spark-Storage-Battery-Camera/dp/B096LS7N6Z/ref=sr_1_10?qid=1642608817&refinements=p_89%3ATecno&rnid=3837712031&s=electronics&sr=1-10\n",
      "https://www.amazon.in/Tecno-Spark-Go-2021-32GB/dp/B097T4FFP2/ref=sr_1_11?qid=1642608817&refinements=p_89%3ATecno&rnid=3837712031&s=electronics&sr=1-11\n",
      "https://www.amazon.in/Tecno-Spark-Go-2021-32GB/dp/B097T63ZZJ/ref=sr_1_12?qid=1642608817&refinements=p_89%3ATecno&rnid=3837712031&s=electronics&sr=1-12\n",
      "https://www.amazon.in/Tecno-Silver-Storage-Camera-Professional/dp/B098SPF35L/ref=sr_1_13?qid=1642608817&refinements=p_89%3ATecno&rnid=3837712031&s=electronics&sr=1-13\n",
      "https://www.amazon.in/Tecno-POVA-Storage-7000mAh-Battery/dp/B09B41B91Q/ref=sr_1_14?qid=1642608817&refinements=p_89%3ATecno&rnid=3837712031&s=electronics&sr=1-14\n",
      "https://www.amazon.in/Tecno-POVA-Storage-7000mAh-Battery/dp/B09B42DJGW/ref=sr_1_15?qid=1642608817&refinements=p_89%3ATecno&rnid=3837712031&s=electronics&sr=1-15\n",
      "https://www.amazon.in/Tecno-Spark-Spruce-Green-Storage/dp/B09FNXJSN2/ref=sr_1_16?qid=1642608817&refinements=p_89%3ATecno&rnid=3837712031&s=electronics&sr=1-16\n",
      "https://www.amazon.in/Tecno-Spark-Go-2022-32GB/dp/B09NQ4PHVV/ref=sr_1_17?qid=1642608817&refinements=p_89%3ATecno&rnid=3837712031&s=electronics&sr=1-17\n",
      "https://www.amazon.in/Tecno-Spark-Magnet-Black-Storage/dp/B09FNV2TNN/ref=sr_1_18?qid=1642608817&refinements=p_89%3ATecno&rnid=3837712031&s=electronics&sr=1-18\n",
      "https://www.amazon.in/Tecno-Nebula-Orange-Storage-Battery/dp/B096LV43SX/ref=sr_1_19?qid=1642608817&refinements=p_89%3ATecno&rnid=3837712031&s=electronics&sr=1-19\n",
      "https://www.amazon.in/Tecno-Spark-Go-2022-32GB/dp/B09NQ3F4LN/ref=sr_1_20?qid=1642608817&refinements=p_89%3ATecno&rnid=3837712031&s=electronics&sr=1-20\n",
      "https://www.amazon.in/TECNO-Spark-Storage-Battery-Camera/dp/B0994CYRQ9/ref=sr_1_21?qid=1642608817&refinements=p_89%3ATecno&rnid=3837712031&s=electronics&sr=1-21\n",
      "https://www.amazon.in/Tecno-Magnet-Storage-Camera-Professional/dp/B098SGN8X2/ref=sr_1_22?qid=1642608817&refinements=p_89%3ATecno&rnid=3837712031&s=electronics&sr=1-22\n",
      "https://www.amazon.in/Tecno-Magnet-Storage-Battery-Camera/dp/B0994D88Q6/ref=sr_1_23?qid=1642608817&refinements=p_89%3ATecno&rnid=3837712031&s=electronics&sr=1-23\n",
      "https://www.amazon.in/Tecno-Nebula-Orange-Storage-Battery/dp/B0994FG8VG/ref=sr_1_24?qid=1642608817&refinements=p_89%3ATecno&rnid=3837712031&s=electronics&sr=1-24\n",
      "https://www.amazon.in/Tecno-Spark-Alps-Blue-Storage/dp/B095H9VH6D/ref=sr_1_25?qid=1642608830&refinements=p_89%3ATecno&rnid=3837712031&s=electronics&sr=1-25\n",
      "https://www.amazon.in/Tecno-Spark-Alps-Blue-Storage/dp/B095GWK44S/ref=sr_1_26?qid=1642608830&refinements=p_89%3ATecno&rnid=3837712031&s=electronics&sr=1-26\n",
      "https://www.amazon.in/TECNO-Dazzle-Black-Storage-Tecno/dp/B09D2RLPKY/ref=sr_1_27?qid=1642608830&refinements=p_89%3ATecno&rnid=3837712031&s=electronics&sr=1-27\n",
      "https://www.amazon.in/Tecno-Spark-Magnet-Black-Storage/dp/B095HBMVBB/ref=sr_1_28?qid=1642608830&refinements=p_89%3ATecno&rnid=3837712031&s=electronics&sr=1-28\n",
      "https://www.amazon.in/Tecno-Spark-Atlantic-64GB-Flashlight/dp/B09F9HLM79/ref=sr_1_29?qid=1642608830&refinements=p_89%3ATecno&rnid=3837712031&s=electronics&sr=1-29\n",
      "https://www.amazon.in/Tecno-Spark-Turquoise-Storage-Flashlight/dp/B09F9H2PT5/ref=sr_1_30?qid=1642608830&refinements=p_89%3ATecno&rnid=3837712031&s=electronics&sr=1-30\n",
      "https://www.amazon.in/Tecno-Spark-Turquoise-32GB-Flashlight/dp/B09KBN9QXN/ref=sr_1_31?qid=1642608830&refinements=p_89%3ATecno&rnid=3837712031&s=electronics&sr=1-31\n",
      "https://www.amazon.in/Tecno-Spark-Atlantic-32GB-Flashlight/dp/B09KBSDRDG/ref=sr_1_32?qid=1642608830&refinements=p_89%3ATecno&rnid=3837712031&s=electronics&sr=1-32\n",
      "https://www.amazon.in/Tecno-Camon-Frost-Silver-Storage/dp/B09D2RLPL1/ref=sr_1_33?qid=1642608830&refinements=p_89%3ATecno&rnid=3837712031&s=electronics&sr=1-33\n",
      "https://www.amazon.in/Tecno-Spark-Magnet-Black-Storage/dp/B095H6NLB4/ref=sr_1_34?qid=1642608830&refinements=p_89%3ATecno&rnid=3837712031&s=electronics&sr=1-34\n",
      "https://www.amazon.in/Tecno-Spark-Atlantic-64GB-Flashlight/dp/B09KBTYDHQ/ref=sr_1_25?qid=1642608830&refinements=p_89%3ATecno&rnid=3837712031&s=electronics&sr=1-25\n",
      "https://www.amazon.in/Tecno-Spark-Turquoise-64GB-Flashlight/dp/B09KBQVWZX/ref=sr_1_26?qid=1642608830&refinements=p_89%3ATecno&rnid=3837712031&s=electronics&sr=1-26\n",
      "https://www.amazon.in/TECNO-Spark-Jewel-Storage-Tecno/dp/B09D2J3J2F/ref=sr_1_27?qid=1642608830&refinements=p_89%3ATecno&rnid=3837712031&s=electronics&sr=1-27\n",
      "https://www.amazon.in/Tecno-Camon-Magnet-Black-Storage/dp/B09D2XKKXV/ref=sr_1_28?qid=1642608830&refinements=p_89%3ATecno&rnid=3837712031&s=electronics&sr=1-28\n",
      "https://www.amazon.in/Tecno-Spark-Magnet-Black-Storage/dp/B09D2R1SBW/ref=sr_1_29?qid=1642608830&refinements=p_89%3ATecno&rnid=3837712031&s=electronics&sr=1-29\n",
      "https://www.amazon.in/TECNO-Nebula-Orange-Storage-Tecno/dp/B09D2G19JH/ref=sr_1_49?qid=1642608840&refinements=p_89%3ATecno&rnid=3837712031&s=electronics&sr=1-49\n",
      "https://www.amazon.in/Tecno-Spark-Atlantic-Blue-Storage/dp/B09P2ZKQQ7/ref=sr_1_50?qid=1642608840&refinements=p_89%3ATecno&rnid=3837712031&s=electronics&sr=1-50\n",
      "https://www.amazon.in/Tecno-Spark-2020-Aqua-Blue/dp/B08LMH4PTT/ref=sr_1_51?qid=1642608840&refinements=p_89%3ATecno&rnid=3837712031&s=electronics&sr=1-51\n",
      "https://www.amazon.in/Tecno-Camon-Champagne-Gold-32Gb/dp/B078QPY8FW/ref=sr_1_52?qid=1642608840&refinements=p_89%3ATecno&rnid=3837712031&s=electronics&sr=1-52\n",
      "https://www.amazon.in/TECNO-MOBILES-Grey-Storage-Display/dp/B075FC76ZG/ref=sr_1_53?qid=1642608840&refinements=p_89%3ATecno&rnid=3837712031&s=electronics&sr=1-53\n",
      "https://www.amazon.in/MOBILES-Tecno-I5-Pro-Midnight/dp/B075FBKPYM/ref=sr_1_54?qid=1642608840&refinements=p_89%3ATecno&rnid=3837712031&s=electronics&sr=1-54\n",
      "https://www.amazon.in/Tecno-Camon-iAir2-Camera-Selfie/dp/B07HNXZ32W/ref=sr_1_55?qid=1642608840&refinements=p_89%3ATecno&rnid=3837712031&s=electronics&sr=1-55\n",
      "https://www.amazon.in/Tecno-Spark-Turquoise-Cyan-Storage/dp/B09P38NZSF/ref=sr_1_56?qid=1642608840&refinements=p_89%3ATecno&rnid=3837712031&s=electronics&sr=1-56\n"
     ]
    }
   ],
   "source": [
    "last_page_number = get_lastpage_number()\n",
    "print(\"Number of pages to scrape : \", last_page_number)\n",
    "xpath_next_btn_pagination = '//li[@class=\"a-last\"]'\n",
    "last_page_number = int(last_page_number) + 1\n",
    "#looping through pagination links\n",
    "xpath_product_link = '//a[@class=\"a-link-normal s-no-outline\"]'\n",
    "product_links = []\n",
    "for i in range(1, last_page_number):\n",
    "    if i == 1:\n",
    "        browser.get(smartphone_url)\n",
    "    \n",
    "    links = wait.until(ec.visibility_of_all_elements_located((By.XPATH, xpath_product_link)))\n",
    "    for link in links:\n",
    "        product_links.append(link.get_attribute('href'))\n",
    "    #link extraction code -- upcoming\n",
    "        \n",
    "    if i == last_page_number-1:\n",
    "        break\n",
    "    time.sleep(3)\n",
    "    next_btn = wait.until(ec.visibility_of_element_located((By.XPATH, xpath_next_btn_pagination)))\n",
    "    next_btn.click()\n",
    "    \n",
    "print('Number of product links found : ',len(product_links))   "
   ]
  },
  {
   "cell_type": "code",
   "execution_count": null,
   "id": "5434a330",
   "metadata": {},
   "outputs": [],
   "source": []
  }
 ],
 "metadata": {
  "kernelspec": {
   "display_name": "Python 3 (ipykernel)",
   "language": "python",
   "name": "python3"
  },
  "language_info": {
   "codemirror_mode": {
    "name": "ipython",
    "version": 3
   },
   "file_extension": ".py",
   "mimetype": "text/x-python",
   "name": "python",
   "nbconvert_exporter": "python",
   "pygments_lexer": "ipython3",
   "version": "3.9.7"
  }
 },
 "nbformat": 4,
 "nbformat_minor": 5
}
