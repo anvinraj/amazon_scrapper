{
 "cells": [
  {
   "cell_type": "code",
   "execution_count": null,
   "id": "2ca3daa8",
   "metadata": {},
   "outputs": [],
   "source": [
    "#Installing required Packages\n",
    "!pip install selenium\n",
    "!pip install webdriver_manager\n"
   ]
  },
  {
   "cell_type": "code",
   "execution_count": null,
   "id": "d851cb97",
   "metadata": {},
   "outputs": [],
   "source": [
    "#Importing packages\n",
    "from selenium import webdriver\n",
    "from webdriver_manager.chrome import ChromeDriverManager\n",
    "from selenium.webdriver.chrome.options import Options\n",
    "from selenium.webdriver.support.ui import WebDriverWait\n",
    "from selenium.webdriver.support import expected_conditions as ec\n",
    "from selenium.webdriver.common.by import By\n",
    "\n",
    "import re\n",
    "import time"
   ]
  },
  {
   "cell_type": "code",
   "execution_count": null,
   "id": "0cc2862d",
   "metadata": {},
   "outputs": [],
   "source": [
    "#Setting chrome options\n",
    "chrome_options = Options()\n",
    "chrome_options.add_argument(\"--start-maximized\")\n",
    "browser = webdriver.Chrome(ChromeDriverManager().install(),chrome_options=chrome_options)"
   ]
  },
  {
   "cell_type": "code",
   "execution_count": null,
   "id": "d6ac8d27",
   "metadata": {},
   "outputs": [],
   "source": [
    "wait = WebDriverWait(browser, 5)"
   ]
  },
  {
   "cell_type": "code",
   "execution_count": null,
   "id": "eb487db5",
   "metadata": {
    "scrolled": true
   },
   "outputs": [],
   "source": [
    "#Invoking  browser with url\n",
    "smartphone_url='https://www.amazon.in/s?rh=n%3A1805560031&fs=true&ref=lp_1805560031_sar'\n",
    "#test_url='https://www.amazon.in/s?i=electronics&bbn=1805560031&rh=n%3A1805560031%2Cp_89%3ATecno&dc&fs=true&qid=1642520011&rnid=3837712031&ref=sr_nr_p_89_6'\n",
    "browser.get(smartphone_url)"
   ]
  },
  {
   "cell_type": "code",
   "execution_count": null,
   "id": "a9d5f57c",
   "metadata": {},
   "outputs": [],
   "source": [
    "def get_lastpage_number():\n",
    "    try:\n",
    "        xpath_pagination = '//ul[@class=\"a-pagination\"]'\n",
    "        last_page_obj = wait.until(ec.visibility_of_element_located((By.XPATH, xpath_pagination)))\n",
    "        last_page_text = last_page_obj.text\n",
    "        last_page_match_obj = re.search(r'(\\d+)\\nNext', last_page_text)\n",
    "        last_page = last_page_match_obj.group(1).strip() if last_page_match_obj != None else ''        \n",
    "    except Exception as e:\n",
    "        print(e)\n",
    "        last_page=''\n",
    "    return last_page"
   ]
  },
  {
   "cell_type": "code",
   "execution_count": null,
   "id": "ca89956d",
   "metadata": {},
   "outputs": [],
   "source": [
    "last_page_number = get_lastpage_number()\n",
    "print(\"Number of pages to scrape : \", last_page_number)\n",
    "next_btn_pagination = '//li[@class=\"a-last\"]'\n",
    "last_page_number = int(last_page_number) + 1\n",
    "#looping through pagination links\n",
    "for i in range(1, last_page_number):\n",
    "    if i == 1:\n",
    "        browser.get(smartphone_url)\n",
    "    \n",
    "    #link extraction code -- upcoming\n",
    "        \n",
    "    if i == last_page_number-1:\n",
    "        break\n",
    "    time.sleep(3)\n",
    "    next_btn = wait.until(ec.visibility_of_element_located((By.XPATH, next_btn_pagination)))\n",
    "    next_btn.click()\n",
    "    \n",
    "    "
   ]
  },
  {
   "cell_type": "code",
   "execution_count": null,
   "id": "18e68deb",
   "metadata": {},
   "outputs": [],
   "source": []
  }
 ],
 "metadata": {
  "kernelspec": {
   "display_name": "Python 3 (ipykernel)",
   "language": "python",
   "name": "python3"
  },
  "language_info": {
   "codemirror_mode": {
    "name": "ipython",
    "version": 3
   },
   "file_extension": ".py",
   "mimetype": "text/x-python",
   "name": "python",
   "nbconvert_exporter": "python",
   "pygments_lexer": "ipython3",
   "version": "3.9.7"
  }
 },
 "nbformat": 4,
 "nbformat_minor": 5
}
