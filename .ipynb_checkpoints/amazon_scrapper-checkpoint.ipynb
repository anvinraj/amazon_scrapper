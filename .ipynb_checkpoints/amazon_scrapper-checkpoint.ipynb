{
 "cells": [
  {
   "cell_type": "code",
   "execution_count": null,
   "id": "2ca3daa8",
   "metadata": {},
   "outputs": [],
   "source": [
    "#Installing required Packages\n",
    "!pip install selenium\n",
    "!pip install webdriver_manager\n"
   ]
  },
  {
   "cell_type": "code",
   "execution_count": 58,
   "id": "d851cb97",
   "metadata": {},
   "outputs": [],
   "source": [
    "#Importing packages\n",
    "from selenium import webdriver\n",
    "from webdriver_manager.chrome import ChromeDriverManager\n",
    "from selenium.webdriver.chrome.options import Options\n",
    "from selenium.webdriver.support.ui import WebDriverWait\n",
    "from selenium.webdriver.support import expected_conditions as ec\n",
    "from selenium.webdriver.common.by import By\n",
    "\n",
    "import re\n",
    "import time\n",
    "import os\n",
    "import pandas as pd"
   ]
  },
  {
   "cell_type": "code",
   "execution_count": 59,
   "id": "0cc2862d",
   "metadata": {},
   "outputs": [
    {
     "name": "stderr",
     "output_type": "stream",
     "text": [
      "\n",
      "\n",
      "====== WebDriver manager ======\n",
      "Current google-chrome version is 97.0.4692\n",
      "Get LATEST chromedriver version for 97.0.4692 google-chrome\n",
      "Driver [C:\\Users\\anvin\\.wdm\\drivers\\chromedriver\\win32\\97.0.4692.71\\chromedriver.exe] found in cache\n",
      "C:\\Users\\anvin\\AppData\\Local\\Temp/ipykernel_9056/2433240595.py:4: DeprecationWarning: executable_path has been deprecated, please pass in a Service object\n",
      "  browser = webdriver.Chrome(ChromeDriverManager().install(),chrome_options=chrome_options)\n",
      "C:\\Users\\anvin\\AppData\\Local\\Temp/ipykernel_9056/2433240595.py:4: DeprecationWarning: use options instead of chrome_options\n",
      "  browser = webdriver.Chrome(ChromeDriverManager().install(),chrome_options=chrome_options)\n"
     ]
    }
   ],
   "source": [
    "#Setting chrome options\n",
    "chrome_options = Options()\n",
    "chrome_options.add_argument(\"--start-maximized\")\n",
    "browser = webdriver.Chrome(ChromeDriverManager().install(),chrome_options=chrome_options)"
   ]
  },
  {
   "cell_type": "code",
   "execution_count": 60,
   "id": "d6ac8d27",
   "metadata": {},
   "outputs": [],
   "source": [
    "wait = WebDriverWait(browser, 20)"
   ]
  },
  {
   "cell_type": "code",
   "execution_count": 61,
   "id": "eb487db5",
   "metadata": {
    "scrolled": true
   },
   "outputs": [],
   "source": [
    "#Invoking  browser with url\n",
    "#smartphone_url='https://www.amazon.in/s?rh=n%3A1805560031&fs=true&ref=lp_1805560031_sar'\n",
    "smartphone_url='https://www.amazon.in/s?i=electronics&bbn=1805560031&rh=n%3A1805560031%2Cp_89%3ATecno&dc&fs=true&qid=1642520011&rnid=3837712031&ref=sr_nr_p_89_6'\n"
   ]
  },
  {
   "cell_type": "code",
   "execution_count": 62,
   "id": "a9d5f57c",
   "metadata": {},
   "outputs": [],
   "source": [
    "def get_lastpage_number():\n",
    "    try:\n",
    "        xpath_pagination = '//span[@class=\"s-pagination-strip\"]'\n",
    "        last_page_obj = wait.until(ec.visibility_of_element_located((By.XPATH, xpath_pagination)))\n",
    "        last_page_text = last_page_obj.text\n",
    "        last_page_match_obj = re.search(r'\\.\\s*(\\d+)\\s*Next', last_page_text)\n",
    "        if last_page_match_obj != None:\n",
    "            last_page = last_page_match_obj.group(1).strip()\n",
    "        else:\n",
    "            last_page_match_obj = re.search(r'(\\d)\\s*Next', last_page_text)\n",
    "            last_page = last_page_match_obj.group(1).strip() if last_page_match_obj != None else ''\n",
    "    except Exception as e:\n",
    "        try:\n",
    "            xpath_pagination = '//ul[@class=\"a-pagination\"]'\n",
    "            last_page_obj = wait.until(ec.visibility_of_element_located((By.XPATH, xpath_pagination)))\n",
    "            last_page_text = last_page_obj.text\n",
    "            last_page_match_obj = re.search(r'(\\d+)\\nNext', last_page_text)\n",
    "            last_page = last_page_match_obj.group(1).strip() if last_page_match_obj != None else ''        \n",
    "        except Exception as e:\n",
    "            print(e)\n",
    "            last_page=''\n",
    "    return last_page"
   ]
  },
  {
   "cell_type": "code",
   "execution_count": 63,
   "id": "ca89956d",
   "metadata": {},
   "outputs": [],
   "source": [
    "def get_product_links():\n",
    "    browser.get(smartphone_url)\n",
    "    last_page_number = get_lastpage_number()\n",
    "    print(\"Number of pages to scrape : \", last_page_number)\n",
    "    xpath_next_btn_pagination_1 = '//li[@class=\"a-last\"]'\n",
    "    xpath_next_btn_pagination_2 = '//a[@class=\"s-pagination-item s-pagination-next s-pagination-button s-pagination-separator\"]'\n",
    "\n",
    "    last_page_number = int(last_page_number) + 1\n",
    "    #looping through pagination links\n",
    "    xpath_product_link = '//a[@class=\"a-link-normal s-no-outline\"]'\n",
    "    product_links = []\n",
    "    for i in range(1, last_page_number):\n",
    "        if i == 1:\n",
    "            browser.get(smartphone_url)\n",
    "\n",
    "        links = wait.until(ec.visibility_of_all_elements_located((By.XPATH, xpath_product_link)))\n",
    "        for link in links:\n",
    "            product_links.append(link.get_attribute('href'))\n",
    "\n",
    "        if i == last_page_number-1:\n",
    "            break\n",
    "        time.sleep(3)\n",
    "        try:\n",
    "            next_btn = wait.until(ec.visibility_of_element_located((By.XPATH, xpath_next_btn_pagination_1)))\n",
    "            next_btn.click()\n",
    "        except Exception as e:\n",
    "            next_btn = wait.until(ec.visibility_of_element_located((By.XPATH, xpath_next_btn_pagination_2)))\n",
    "            next_btn.click()\n",
    "    print('Number of product links found : ',len(product_links))   \n",
    "    return product_links"
   ]
  },
  {
   "cell_type": "code",
   "execution_count": 68,
   "id": "0227b5f5",
   "metadata": {},
   "outputs": [],
   "source": [
    "def get_product_details(product_url):\n",
    "    browser.get(product_url)\n",
    "    try:\n",
    "        prod_info = wait.until(ec.visibility_of_element_located((By.ID,'centerCol')))\n",
    "        prod_info = prod_info.text\n",
    "        prod_info = os.linesep.join([s for s in prod_info.splitlines() if s])\n",
    "    except Exception as e:\n",
    "        prod_info = ''\n",
    "    \n",
    "    try:\n",
    "        prod_tech_info = wait.until(ec.visibility_of_element_located((By.ID,'productDetails_techSpec_section_1')))\n",
    "        prod_tech_info = prod_tech_info.text\n",
    "    except Exception as e:\n",
    "        prod_tech_info = ''\n",
    "    \n",
    "    try:\n",
    "        prod_additional_info = wait.until(ec.visibility_of_element_located((By.ID,'productDetails_detailBullets_sections1')))\n",
    "        prod_additional_info = prod_additional_info.text\n",
    "    except Exception as e:\n",
    "        prod_tech_info = ''\n",
    "    \n",
    "    try:\n",
    "        prod_buy_info = wait.until(ec.visibility_of_element_located((By.ID,'desktop_qualifiedBuyBox')))\n",
    "        prod_buy_info = prod_buy_info.text\n",
    "    except Exception as e:\n",
    "        prod_buy_info = ''\n",
    "    \n",
    "    prod_data = prod_info +'\\n\\n'+ prod_tech_info +'\\n\\n'+ prod_additional_info +'\\n\\n'+ prod_buy_info\n",
    "    return prod_data\n",
    "    "
   ]
  },
  {
   "cell_type": "code",
   "execution_count": 69,
   "id": "33e069f3",
   "metadata": {},
   "outputs": [],
   "source": [
    "prod_df_tmp = pd.DataFrame()\n",
    "def extract_pruduct_info(prod_data):\n",
    "    prod_mrp_price_obj = re.search(r'm\\.r\\.p\\.\\:\\s*\\n(.*)', prod_data, re.IGNORECASE)\n",
    "    prod_mrp_price = prod_mrp_price_obj.group(1) if prod_mrp_price_obj != None else ''\n",
    "    #print('prod_mrp_price :',prod_mrp_price)\n",
    "    \n",
    "    prod_sale_price_obj = re.search(r'price:\\s*\\n(.*)', prod_data, re.IGNORECASE)\n",
    "    prod_sale_price = prod_sale_price_obj.group(1) if prod_sale_price_obj != None else ''\n",
    "    #print('prod_sale_price :',prod_sale_price)\n",
    "    \n",
    "    deal_of_the_day_obj = re.search(r'deal\\s+of\\s+the\\s+day\\:\\s*\\n(.*)', prod_data, re.IGNORECASE)\n",
    "    deal_of_the_day = deal_of_the_day_obj.group(1) if deal_of_the_day_obj != None else ''\n",
    "    #print('deal_of_the_day :',deal_of_the_day)\n",
    "    \n",
    "    deal_end_time_obj = re.search(r'ends\\s+in\\s+(.*)', prod_data, re.IGNORECASE)\n",
    "    deal_end_time = deal_end_time_obj.group(1) if deal_end_time_obj != None else ''\n",
    "    #print('deal_end_time :',deal_end_time)\n",
    "    \n",
    "    your_savings_obj = re.search(r'you\\s+save\\:\\s*\\n(.*)', prod_data, re.IGNORECASE)\n",
    "    your_savings = your_savings_obj.group(1) if your_savings_obj != None else ''\n",
    "    #print('your_savings :',your_savings)\n",
    "    \n",
    "    emi_available_obj = re.search(r'emi\\s+starts\\s+at', prod_data, re.IGNORECASE)\n",
    "    emi_available = 'yes' if emi_available_obj != None else ''\n",
    "    #print('emi_available :',emi_available)\n",
    "    \n",
    "    nocost_emi_available_obj = re.search(r'no\\s+cost\\s+emi\\s+available', prod_data, re.IGNORECASE)\n",
    "    nocost_emi_available = 'yes' if nocost_emi_available_obj != None else ''\n",
    "    #print('nocost_emi_available :',nocost_emi_available)\n",
    "    \n",
    "    product_model_obj = re.search(r'model\\s+name\\s+(.*)', prod_data, re.IGNORECASE)\n",
    "    product_model = product_model_obj.group(1) if product_model_obj != None else ''\n",
    "    #print('product_model :',product_model)\n",
    "    \n",
    "    wireless_carrier_obj = re.search(r'wireless\\s+carrier\\s+(.*)', prod_data, re.IGNORECASE)\n",
    "    wireless_carrier = wireless_carrier_obj.group(1) if wireless_carrier_obj != None else ''\n",
    "    #print('wireless_carrier :',wireless_carrier)\n",
    "    \n",
    "    product_brand_obj = re.search(r'brand\\s+(.*)', prod_data, re.IGNORECASE)\n",
    "    product_brand = product_brand_obj.group(1) if product_brand_obj != None else ''\n",
    "    #print('product_brand :',product_brand)\n",
    "    \n",
    "    product_memory_storage_obj = re.search(r'memory\\s+storage\\s+capacity\\s+(.*)', prod_data, re.IGNORECASE)\n",
    "    product_memory_storage = product_memory_storage_obj.group(1) if product_memory_storage_obj != None else ''\n",
    "    #print('product_memory_storage :',product_memory_storage)\n",
    "    \n",
    "    product_os_obj = re.search(r'\\nos\\s+(.*)', prod_data, re.IGNORECASE)\n",
    "    product_os = product_os_obj.group(1) if product_os_obj != None else ''\n",
    "    #print('product_os :',product_os)\n",
    "    \n",
    "    product_ram_obj = re.search(r'\\nram\\s+(.*)', prod_data, re.IGNORECASE)\n",
    "    product_ram = product_ram_obj.group(1) if product_ram_obj != None else ''\n",
    "    #print('product_ram :',product_ram)\n",
    "    \n",
    "    product_colour_obj = re.search(r'\\ncolour\\s+(.*)', prod_data, re.IGNORECASE)\n",
    "    product_colour = product_colour_obj.group(1) if product_colour_obj != None else ''\n",
    "    #print('product_colour :',product_colour)\n",
    "\n",
    "    product_manufacturer_obj = re.search(r'\\nmanufacturer\\s+(.*)', prod_data, re.IGNORECASE)\n",
    "    product_manufacturer = product_manufacturer_obj.group(1) if product_manufacturer_obj != None else ''\n",
    "    #print('product_manufacturer :',product_manufacturer)\n",
    "    \n",
    "    product_country_of_origin_obj = re.search(r'\\ncountry\\s+of\\s+origin\\s+(.*)', prod_data, re.IGNORECASE)\n",
    "    product_country_of_origin = product_country_of_origin_obj.group(1) if product_country_of_origin_obj != None else ''\n",
    "    #print('product_country_of_origin :',product_country_of_origin)\n",
    "    \n",
    "    \n",
    "    prod_df_tmp['prod_mrp_price'] = [prod_mrp_price.strip()]\n",
    "    prod_df_tmp['prod_sale_price'] = [prod_sale_price.strip()]\n",
    "    prod_df_tmp['deal_of_the_day'] = [deal_of_the_day.strip()]\n",
    "    prod_df_tmp['deal_end_time'] = [deal_end_time.strip()]\n",
    "    prod_df_tmp['your_savings'] = [your_savings.strip()] \n",
    "    prod_df_tmp['emi_available'] = [emi_available.strip()]\n",
    "    prod_df_tmp['nocost_emi_available'] = [nocost_emi_available.strip()]\n",
    "    prod_df_tmp['product_model'] = [product_model.strip()]\n",
    "    prod_df_tmp['wireless_carrier'] = [wireless_carrier.strip()]\n",
    "    prod_df_tmp['product_brand'] = [product_brand.strip()]\n",
    "    prod_df_tmp['product_memory_storage'] = [product_memory_storage.strip()]\n",
    "    prod_df_tmp['product_os'] = [product_os.strip()]\n",
    "    prod_df_tmp['product_ram'] = [product_ram.strip()]\n",
    "    prod_df_tmp['product_colour'] = [product_colour.strip()]\n",
    "    prod_df_tmp['product_manufacturer'] = [product_manufacturer.strip()]\n",
    "    prod_df_tmp['product_country_of_origin'] = [product_country_of_origin.strip()]\n",
    "    prod_df_tmp['tmp_prod_data']=[prod_data]\n",
    "    #print(prod_df_tmp.head())\n",
    "    return prod_df_tmp\n"
   ]
  },
  {
   "cell_type": "code",
   "execution_count": 70,
   "id": "abb120e5",
   "metadata": {},
   "outputs": [
    {
     "name": "stdout",
     "output_type": "stream",
     "text": [
      "Number of pages to scrape :  4\n",
      "Number of product links found :  76\n"
     ]
    }
   ],
   "source": [
    "product_links = get_product_links()"
   ]
  },
  {
   "cell_type": "code",
   "execution_count": null,
   "id": "5434a330",
   "metadata": {
    "scrolled": false
   },
   "outputs": [],
   "source": [
    "prod_df = pd.DataFrame(columns = ['prod_mrp_price',  'prod_sale_price', 'deal_of_the_day', 'deal_end_time', 'your_savings'\n",
    "                                  , 'emi_available', 'nocost_emi_available', 'product_model', 'wireless_carrier'\n",
    "                                  , 'product_brand','product_memory_storage', 'product_os', 'product_ram', 'product_colour'\n",
    "                                  , 'product_manufacturer', 'product_country_of_origin', 'tmp_prod_data'])\n",
    "for p_link in product_links:\n",
    "    prod_data = get_product_details(p_link)\n",
    "    prod_df_tmp = extract_pruduct_info(prod_data)\n",
    "    prod_df = prod_df.append(prod_df_tmp)\n",
    "    #break # for checking only single product"
   ]
  },
  {
   "cell_type": "code",
   "execution_count": null,
   "id": "8352972a",
   "metadata": {},
   "outputs": [],
   "source": [
    "prod_df"
   ]
  },
  {
   "cell_type": "code",
   "execution_count": null,
   "id": "0295955a",
   "metadata": {},
   "outputs": [],
   "source": [
    "prod_df.to_excel('sample_output.xlsx', index=False)"
   ]
  },
  {
   "cell_type": "code",
   "execution_count": null,
   "id": "0a5cc04f",
   "metadata": {},
   "outputs": [],
   "source": []
  }
 ],
 "metadata": {
  "kernelspec": {
   "display_name": "Python 3 (ipykernel)",
   "language": "python",
   "name": "python3"
  },
  "language_info": {
   "codemirror_mode": {
    "name": "ipython",
    "version": 3
   },
   "file_extension": ".py",
   "mimetype": "text/x-python",
   "name": "python",
   "nbconvert_exporter": "python",
   "pygments_lexer": "ipython3",
   "version": "3.9.7"
  }
 },
 "nbformat": 4,
 "nbformat_minor": 5
}
