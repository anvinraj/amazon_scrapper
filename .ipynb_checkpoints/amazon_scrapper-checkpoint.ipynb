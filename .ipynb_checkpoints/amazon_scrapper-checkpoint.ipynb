{
 "cells": [
  {
   "cell_type": "code",
   "execution_count": null,
   "id": "2ca3daa8",
   "metadata": {},
   "outputs": [],
   "source": [
    "#Installing required Packages\n",
    "!pip install selenium\n",
    "!pip install webdriver_manager\n"
   ]
  },
  {
   "cell_type": "code",
   "execution_count": 1,
   "id": "d851cb97",
   "metadata": {},
   "outputs": [],
   "source": [
    "#Importing packages\n",
    "from selenium import webdriver\n",
    "from webdriver_manager.chrome import ChromeDriverManager\n",
    "from selenium.webdriver.chrome.options import Options\n",
    "from selenium.webdriver.support.ui import WebDriverWait\n",
    "from selenium.webdriver.support import expected_conditions as ec\n",
    "from selenium.webdriver.common.by import By\n",
    "\n",
    "import re\n",
    "import time\n",
    "import os\n",
    "import pandas as pd"
   ]
  },
  {
   "cell_type": "code",
   "execution_count": 2,
   "id": "0cc2862d",
   "metadata": {},
   "outputs": [
    {
     "name": "stderr",
     "output_type": "stream",
     "text": [
      "\n",
      "\n",
      "====== WebDriver manager ======\n",
      "Current google-chrome version is 98.0.4758\n",
      "Get LATEST chromedriver version for 98.0.4758 google-chrome\n",
      "Trying to download new driver from https://chromedriver.storage.googleapis.com/98.0.4758.80/chromedriver_win32.zip\n",
      "Driver has been saved in cache [C:\\Users\\anvin\\.wdm\\drivers\\chromedriver\\win32\\98.0.4758.80]\n",
      "C:\\Users\\anvin\\AppData\\Local\\Temp/ipykernel_11152/2433240595.py:4: DeprecationWarning: executable_path has been deprecated, please pass in a Service object\n",
      "  browser = webdriver.Chrome(ChromeDriverManager().install(),chrome_options=chrome_options)\n",
      "C:\\Users\\anvin\\AppData\\Local\\Temp/ipykernel_11152/2433240595.py:4: DeprecationWarning: use options instead of chrome_options\n",
      "  browser = webdriver.Chrome(ChromeDriverManager().install(),chrome_options=chrome_options)\n"
     ]
    }
   ],
   "source": [
    "#Setting chrome options\n",
    "chrome_options = Options()\n",
    "chrome_options.add_argument(\"--start-maximized\")\n",
    "browser = webdriver.Chrome(ChromeDriverManager().install(),chrome_options=chrome_options)"
   ]
  },
  {
   "cell_type": "code",
   "execution_count": 3,
   "id": "d6ac8d27",
   "metadata": {},
   "outputs": [],
   "source": [
    "wait = WebDriverWait(browser, 5)"
   ]
  },
  {
   "cell_type": "code",
   "execution_count": 4,
   "id": "eb487db5",
   "metadata": {
    "scrolled": true
   },
   "outputs": [],
   "source": [
    "smartphone_url='https://www.amazon.in/s?i=electronics&bbn=1805560031&rh=n%3A1805560031%2Cp_89%3ARedmi%7CSamsung&dc&fs=true&qid=1644240816&rnid=3837712031&ref=sr_nr_p_89_2'\n",
    "#smartphone_url='https://www.amazon.in/s?i=electronics&bbn=1805560031&rh=n%3A1805560031%2Cp_89%3ATecno&dc&fs=true&qid=1642520011&rnid=3837712031&ref=sr_nr_p_89_6'"
   ]
  },
  {
   "cell_type": "code",
   "execution_count": 5,
   "id": "a9d5f57c",
   "metadata": {},
   "outputs": [],
   "source": [
    "def get_lastpage_number():\n",
    "    try:\n",
    "        xpath_pagination = '//span[@class=\"s-pagination-strip\"]'\n",
    "        last_page_obj = wait.until(ec.visibility_of_element_located((By.XPATH, xpath_pagination)))\n",
    "        last_page_text = last_page_obj.text\n",
    "        last_page_match_obj = re.search(r'\\.\\s*(\\d+)\\s*Next', last_page_text)\n",
    "        if last_page_match_obj != None:\n",
    "            last_page = last_page_match_obj.group(1).strip()\n",
    "        else:\n",
    "            last_page_match_obj = re.search(r'(\\d)\\s*Next', last_page_text)\n",
    "            last_page = last_page_match_obj.group(1).strip() if last_page_match_obj != None else ''\n",
    "    except Exception as e:\n",
    "        try:\n",
    "            xpath_pagination = '//ul[@class=\"a-pagination\"]'\n",
    "            last_page_obj = wait.until(ec.visibility_of_element_located((By.XPATH, xpath_pagination)))\n",
    "            last_page_text = last_page_obj.text\n",
    "            last_page_match_obj = re.search(r'(\\d+)\\nNext', last_page_text)\n",
    "            last_page = last_page_match_obj.group(1).strip() if last_page_match_obj != None else ''        \n",
    "        except Exception as e:\n",
    "            print(e)\n",
    "            last_page=''\n",
    "    return last_page"
   ]
  },
  {
   "cell_type": "code",
   "execution_count": 12,
   "id": "41ce8d07",
   "metadata": {},
   "outputs": [],
   "source": [
    "def change_pin_code(zip_code):\n",
    "    time.sleep(2)\n",
    "    browser.find_element_by_id('nav-global-location-data-modal-action').click()\n",
    "    time.sleep(2)\n",
    "    input_field = browser.find_element_by_id('GLUXZipUpdateInput')\n",
    "    input_field.clear()\n",
    "    input_field.send_keys(zip_code)\n",
    "    apply_button_xpath = '//input[@aria-labelledby=\"GLUXZipUpdate-announce\"]'\n",
    "    apply_button = browser.find_element_by_id('GLUXZipUpdate')\n",
    "    apply_button.click()\n",
    "    time.sleep(3)\n",
    "    browser.get(smartphone_url)"
   ]
  },
  {
   "cell_type": "code",
   "execution_count": 13,
   "id": "ca89956d",
   "metadata": {},
   "outputs": [],
   "source": [
    "def get_product_links(zip_code):\n",
    "    browser.get(smartphone_url)\n",
    "    change_pin_code(zip_code)\n",
    "    last_page_number = get_lastpage_number()\n",
    "    print(\"Number of pages to scrape : \", last_page_number)\n",
    "    xpath_next_btn_pagination_1 = '//li[@class=\"a-last\"]'\n",
    "    xpath_next_btn_pagination_2 = '//a[@class=\"s-pagination-item s-pagination-next s-pagination-button s-pagination-separator\"]'\n",
    "\n",
    "    last_page_number = int(last_page_number) + 1\n",
    "    #looping through pagination links\n",
    "    xpath_product_link = '//a[@class=\"a-link-normal s-no-outline\"]'\n",
    "    product_links = []\n",
    "    for i in range(1, last_page_number):\n",
    "        if i == 1:\n",
    "            browser.get(smartphone_url)\n",
    "\n",
    "        links = wait.until(ec.visibility_of_all_elements_located((By.XPATH, xpath_product_link)))\n",
    "        for link in links:\n",
    "            product_links.append(link.get_attribute('href'))\n",
    "\n",
    "        if i == last_page_number-1:\n",
    "            break\n",
    "        time.sleep(3)\n",
    "        try:\n",
    "            next_btn = wait.until(ec.visibility_of_element_located((By.XPATH, xpath_next_btn_pagination_1)))\n",
    "            next_btn.click()\n",
    "        except Exception as e:\n",
    "            next_btn = wait.until(ec.visibility_of_element_located((By.XPATH, xpath_next_btn_pagination_2)))\n",
    "            next_btn.click()\n",
    "    print('Number of product links found : ',len(product_links))   \n",
    "    return product_links"
   ]
  },
  {
   "cell_type": "code",
   "execution_count": 14,
   "id": "0227b5f5",
   "metadata": {},
   "outputs": [],
   "source": [
    "def get_product_details(product_url):\n",
    "    browser.get(product_url)\n",
    "    try:\n",
    "        prod_info = wait.until(ec.visibility_of_element_located((By.ID,'centerCol')))\n",
    "        prod_info = prod_info.text\n",
    "        prod_info = os.linesep.join([s for s in prod_info.splitlines() if s])\n",
    "    except Exception as e:\n",
    "        prod_info = ''\n",
    "    \n",
    "    try:\n",
    "        prod_tech_info = wait.until(ec.visibility_of_element_located((By.ID,'productDetails_techSpec_section_1')))\n",
    "        prod_tech_info = prod_tech_info.text\n",
    "    except Exception as e:\n",
    "        prod_tech_info = ''\n",
    "    \n",
    "    \n",
    "    try:\n",
    "        prod_additional_info = wait.until(ec.visibility_of_element_located((By.ID,'productDetails_detailBullets_sections1')))\n",
    "        prod_additional_info = prod_additional_info.text\n",
    "    except Exception as e:\n",
    "        prod_additional_info = ''\n",
    "    \n",
    "    try:\n",
    "        prod_buy_info = wait.until(ec.visibility_of_element_located((By.ID,'desktop_qualifiedBuyBox')))\n",
    "        prod_buy_info = prod_buy_info.text\n",
    "    except Exception as e:\n",
    "        prod_buy_info = ''\n",
    "    \n",
    "    prod_data = prod_info +'\\n\\n'+ prod_tech_info +'\\n\\n'+ prod_additional_info +'\\n\\n'+ prod_buy_info\n",
    "    return prod_data\n",
    "    "
   ]
  },
  {
   "cell_type": "code",
   "execution_count": 15,
   "id": "33e069f3",
   "metadata": {},
   "outputs": [],
   "source": [
    "prod_df_tmp = pd.DataFrame()\n",
    "def extract_pruduct_info(prod_data, zip_code):\n",
    "    prod_mrp_price_obj = re.search(r'm\\.r\\.p\\.\\:\\s*\\n(.*)', prod_data, re.IGNORECASE)\n",
    "    prod_mrp_price = prod_mrp_price_obj.group(1) if prod_mrp_price_obj != None else ''\n",
    "    \n",
    "    prod_sale_price_obj = re.search(r'price:\\s*\\n(.*)', prod_data, re.IGNORECASE)\n",
    "    prod_sale_price = prod_sale_price_obj.group(1) if prod_sale_price_obj != None else ''\n",
    "    \n",
    "    deal_of_the_day_obj = re.search(r'deal\\s+of\\s+the\\s+day\\:\\s*\\n(.*)', prod_data, re.IGNORECASE)\n",
    "    deal_of_the_day = deal_of_the_day_obj.group(1) if deal_of_the_day_obj != None else ''\n",
    "    \n",
    "    deal_end_time_obj = re.search(r'ends\\s+in\\s+(.*)', prod_data, re.IGNORECASE)\n",
    "    deal_end_time = deal_end_time_obj.group(1) if deal_end_time_obj != None else ''\n",
    "    \n",
    "    your_savings_obj = re.search(r'you\\s+save\\:\\s*\\n(.*)', prod_data, re.IGNORECASE)\n",
    "    your_savings = your_savings_obj.group(1) if your_savings_obj != None else ''\n",
    "    \n",
    "    emi_available_obj = re.search(r'emi\\s+starts\\s+at', prod_data, re.IGNORECASE)\n",
    "    emi_available = 'yes' if emi_available_obj != None else ''\n",
    "    \n",
    "    nocost_emi_available_obj = re.search(r'no\\s+cost\\s+emi\\s+available', prod_data, re.IGNORECASE)\n",
    "    nocost_emi_available = 'yes' if nocost_emi_available_obj != None else ''\n",
    "    \n",
    "    product_model_obj = re.search(r'model\\s+name\\s+(.*)', prod_data, re.IGNORECASE)\n",
    "    product_model = product_model_obj.group(1) if product_model_obj != None else ''\n",
    "    \n",
    "    wireless_carrier_obj = re.search(r'wireless\\s+carrier\\s+(.*)', prod_data, re.IGNORECASE)\n",
    "    wireless_carrier = wireless_carrier_obj.group(1) if wireless_carrier_obj != None else ''\n",
    "    \n",
    "    product_brand_obj = re.search(r'brand\\s+(.*)', prod_data, re.IGNORECASE)\n",
    "    product_brand = product_brand_obj.group(1) if product_brand_obj != None else ''\n",
    "    \n",
    "    product_memory_storage_obj = re.search(r'memory\\s+storage\\s+capacity\\s+(.*)', prod_data, re.IGNORECASE)\n",
    "    product_memory_storage = product_memory_storage_obj.group(1) if product_memory_storage_obj != None else ''\n",
    "    \n",
    "    product_os_obj = re.search(r'\\nos\\s+(.*)', prod_data, re.IGNORECASE)\n",
    "    product_os = product_os_obj.group(1) if product_os_obj != None else ''\n",
    "    \n",
    "    product_ram_obj = re.search(r'\\nram\\s+(.*)', prod_data, re.IGNORECASE)\n",
    "    product_ram = product_ram_obj.group(1) if product_ram_obj != None else ''\n",
    "    \n",
    "    product_colour_obj = re.search(r'\\ncolour\\s+(.*)', prod_data, re.IGNORECASE)\n",
    "    product_colour = product_colour_obj.group(1) if product_colour_obj != None else ''\n",
    "\n",
    "    product_manufacturer_obj = re.search(r'\\nmanufacturer\\s+(.*)', prod_data, re.IGNORECASE)\n",
    "    product_manufacturer = product_manufacturer_obj.group(1) if product_manufacturer_obj != None else ''\n",
    "    \n",
    "    product_country_of_origin_obj = re.search(r'\\ncountry\\s+of\\s+origin\\s+(.*)', prod_data, re.IGNORECASE)\n",
    "    product_country_of_origin = product_country_of_origin_obj.group(1) if product_country_of_origin_obj != None else ''    \n",
    "    \n",
    "    prod_condition = ''\n",
    "    if 'renewed' in prod_data.lower() or 'refurbished' in prod_data.lower():\n",
    "        prod_condition = 'Old'\n",
    "    else:\n",
    "        prod_condition = 'New'\n",
    "    \n",
    "    prod_df_tmp['Country'] = ['India']\n",
    "    prod_df_tmp['Currency'] = ['INR']\n",
    "    prod_df_tmp['prod_mrp_price'] = [prod_mrp_price.strip()]\n",
    "    prod_df_tmp['prod_sale_price'] = [prod_sale_price.strip()]\n",
    "    prod_df_tmp['deal_of_the_day'] = [deal_of_the_day.strip()]\n",
    "    prod_df_tmp['deal_end_time'] = [deal_end_time.strip()]\n",
    "    prod_df_tmp['your_savings'] = [your_savings.strip()] \n",
    "    prod_df_tmp['emi_available'] = [emi_available.strip()]\n",
    "    prod_df_tmp['nocost_emi_available'] = [nocost_emi_available.strip()]\n",
    "    prod_df_tmp['product_model'] = [product_model.strip()]\n",
    "    prod_df_tmp['wireless_carrier'] = [wireless_carrier.strip()]\n",
    "    prod_df_tmp['product_brand'] = [product_brand.strip()]\n",
    "    prod_df_tmp['product_memory_storage'] = [product_memory_storage.strip()]\n",
    "    prod_df_tmp['product_os'] = [product_os.strip()]\n",
    "    prod_df_tmp['product_ram'] = [product_ram.strip()]\n",
    "    prod_df_tmp['product_colour'] = [product_colour.strip()]\n",
    "    prod_df_tmp['product_condition'] = [prod_condition]\n",
    "    prod_df_tmp['product_manufacturer'] = [product_manufacturer.strip()]\n",
    "    prod_df_tmp['product_country_of_origin'] = [product_country_of_origin.strip()]\n",
    "    prod_df_tmp['zip_code']=[zip_code]\n",
    "    prod_df_tmp['tmp_prod_data']=[prod_data]\n",
    "    return prod_df_tmp\n"
   ]
  },
  {
   "cell_type": "code",
   "execution_count": 16,
   "id": "7f2d7d87",
   "metadata": {},
   "outputs": [],
   "source": [
    "def clean_product_name(p_name):\n",
    "    p_name = str(p_name)\n",
    "    p_name = re.sub(r'\\(.*\\)', '', p_name)\n",
    "    return p_name\n",
    "\n",
    "def clean_price(p_price):\n",
    "    p_price = str(p_price)\n",
    "    p_price = re.sub(r'\\,'\n",
    "                     '|\\.00'\n",
    "                     '|\\₹'\n",
    "                     '|\\(.*\\)', '', p_price)\n",
    "    return p_price"
   ]
  },
  {
   "cell_type": "code",
   "execution_count": 17,
   "id": "5434a330",
   "metadata": {
    "scrolled": false
   },
   "outputs": [
    {
     "name": "stderr",
     "output_type": "stream",
     "text": [
      "C:\\Users\\anvin\\AppData\\Local\\Temp/ipykernel_11152/3245080623.py:3: DeprecationWarning: find_element_by_* commands are deprecated. Please use find_element() instead\n",
      "  browser.find_element_by_id('nav-global-location-data-modal-action').click()\n",
      "C:\\Users\\anvin\\AppData\\Local\\Temp/ipykernel_11152/3245080623.py:5: DeprecationWarning: find_element_by_* commands are deprecated. Please use find_element() instead\n",
      "  input_field = browser.find_element_by_id('GLUXZipUpdateInput')\n",
      "C:\\Users\\anvin\\AppData\\Local\\Temp/ipykernel_11152/3245080623.py:9: DeprecationWarning: find_element_by_* commands are deprecated. Please use find_element() instead\n",
      "  apply_button = browser.find_element_by_id('GLUXZipUpdate')\n"
     ]
    },
    {
     "name": "stdout",
     "output_type": "stream",
     "text": [
      "Number of pages to scrape :  14\n",
      "Number of product links found :  320\n"
     ]
    },
    {
     "ename": "UnboundLocalError",
     "evalue": "local variable 'prod_additional_info' referenced before assignment",
     "output_type": "error",
     "traceback": [
      "\u001b[1;31m---------------------------------------------------------------------------\u001b[0m",
      "\u001b[1;31mUnboundLocalError\u001b[0m                         Traceback (most recent call last)",
      "\u001b[1;32m~\\AppData\\Local\\Temp/ipykernel_11152/2390696718.py\u001b[0m in \u001b[0;36m<module>\u001b[1;34m\u001b[0m\n\u001b[0;32m      9\u001b[0m     \u001b[0mproduct_links\u001b[0m \u001b[1;33m=\u001b[0m \u001b[0mget_product_links\u001b[0m\u001b[1;33m(\u001b[0m\u001b[0mzip_code\u001b[0m\u001b[1;33m)\u001b[0m\u001b[1;33m\u001b[0m\u001b[1;33m\u001b[0m\u001b[0m\n\u001b[0;32m     10\u001b[0m     \u001b[1;32mfor\u001b[0m \u001b[0mp_link\u001b[0m \u001b[1;32min\u001b[0m \u001b[0mproduct_links\u001b[0m\u001b[1;33m:\u001b[0m\u001b[1;33m\u001b[0m\u001b[1;33m\u001b[0m\u001b[0m\n\u001b[1;32m---> 11\u001b[1;33m         \u001b[0mprod_data\u001b[0m \u001b[1;33m=\u001b[0m \u001b[0mget_product_details\u001b[0m\u001b[1;33m(\u001b[0m\u001b[0mp_link\u001b[0m\u001b[1;33m)\u001b[0m\u001b[1;33m\u001b[0m\u001b[1;33m\u001b[0m\u001b[0m\n\u001b[0m\u001b[0;32m     12\u001b[0m         \u001b[0mprod_df_tmp\u001b[0m \u001b[1;33m=\u001b[0m \u001b[0mextract_pruduct_info\u001b[0m\u001b[1;33m(\u001b[0m\u001b[0mprod_data\u001b[0m\u001b[1;33m,\u001b[0m \u001b[0mzip_code\u001b[0m\u001b[1;33m)\u001b[0m\u001b[1;33m\u001b[0m\u001b[1;33m\u001b[0m\u001b[0m\n\u001b[0;32m     13\u001b[0m         \u001b[0mprod_df\u001b[0m \u001b[1;33m=\u001b[0m \u001b[0mprod_df\u001b[0m\u001b[1;33m.\u001b[0m\u001b[0mappend\u001b[0m\u001b[1;33m(\u001b[0m\u001b[0mprod_df_tmp\u001b[0m\u001b[1;33m)\u001b[0m\u001b[1;33m\u001b[0m\u001b[1;33m\u001b[0m\u001b[0m\n",
      "\u001b[1;32m~\\AppData\\Local\\Temp/ipykernel_11152/3068717839.py\u001b[0m in \u001b[0;36mget_product_details\u001b[1;34m(product_url)\u001b[0m\n\u001b[0;32m     26\u001b[0m         \u001b[0mprod_buy_info\u001b[0m \u001b[1;33m=\u001b[0m \u001b[1;34m''\u001b[0m\u001b[1;33m\u001b[0m\u001b[1;33m\u001b[0m\u001b[0m\n\u001b[0;32m     27\u001b[0m \u001b[1;33m\u001b[0m\u001b[0m\n\u001b[1;32m---> 28\u001b[1;33m     \u001b[0mprod_data\u001b[0m \u001b[1;33m=\u001b[0m \u001b[0mprod_info\u001b[0m \u001b[1;33m+\u001b[0m\u001b[1;34m'\\n\\n'\u001b[0m\u001b[1;33m+\u001b[0m \u001b[0mprod_tech_info\u001b[0m \u001b[1;33m+\u001b[0m\u001b[1;34m'\\n\\n'\u001b[0m\u001b[1;33m+\u001b[0m \u001b[0mprod_additional_info\u001b[0m \u001b[1;33m+\u001b[0m\u001b[1;34m'\\n\\n'\u001b[0m\u001b[1;33m+\u001b[0m \u001b[0mprod_buy_info\u001b[0m\u001b[1;33m\u001b[0m\u001b[1;33m\u001b[0m\u001b[0m\n\u001b[0m\u001b[0;32m     29\u001b[0m     \u001b[1;32mreturn\u001b[0m \u001b[0mprod_data\u001b[0m\u001b[1;33m\u001b[0m\u001b[1;33m\u001b[0m\u001b[0m\n\u001b[0;32m     30\u001b[0m \u001b[1;33m\u001b[0m\u001b[0m\n",
      "\u001b[1;31mUnboundLocalError\u001b[0m: local variable 'prod_additional_info' referenced before assignment"
     ]
    }
   ],
   "source": [
    "prod_df = pd.DataFrame(columns = ['Country', 'Currency', 'prod_mrp_price',  'prod_sale_price', 'deal_of_the_day'\n",
    "                                  , 'deal_end_time', 'your_savings', 'emi_available', 'nocost_emi_available', 'product_model'\n",
    "                                  , 'wireless_carrier', 'product_brand','product_memory_storage', 'product_os', 'product_ram'\n",
    "                                  , 'product_colour', 'product_manufacturer', 'product_country_of_origin', 'zip_code', 'tmp_prod_data'])\n",
    "\n",
    "zip_codes = ['110006', '530068'] # Add zip codes here\n",
    "\n",
    "for zip_code in zip_codes:\n",
    "    product_links = get_product_links(zip_code)\n",
    "    for p_link in product_links:\n",
    "        prod_data = get_product_details(p_link)\n",
    "        prod_df_tmp = extract_pruduct_info(prod_data, zip_code)\n",
    "        prod_df = prod_df.append(prod_df_tmp)\n"
   ]
  },
  {
   "cell_type": "code",
   "execution_count": null,
   "id": "7756b51e",
   "metadata": {},
   "outputs": [],
   "source": [
    "prod_df['prod_mrp_price'] = prod_df['prod_mrp_price'].apply(clean_price)\n",
    "prod_df['prod_sale_price'] = prod_df['prod_sale_price'].apply(clean_price)\n",
    "prod_df['deal_of_the_day'] = prod_df['deal_of_the_day'].apply(clean_price)\n",
    "prod_df['your_savings'] = prod_df['your_savings'].apply(clean_price)\n",
    "prod_df['product_model'] = prod_df['product_model'].apply(clean_product_name)"
   ]
  },
  {
   "cell_type": "code",
   "execution_count": null,
   "id": "8352972a",
   "metadata": {},
   "outputs": [],
   "source": [
    "prod_df.head()"
   ]
  },
  {
   "cell_type": "code",
   "execution_count": null,
   "id": "0295955a",
   "metadata": {},
   "outputs": [],
   "source": [
    "prod_df.to_excel('sample_output.xlsx', index=False)"
   ]
  },
  {
   "cell_type": "code",
   "execution_count": null,
   "id": "4ebe7cc1",
   "metadata": {},
   "outputs": [],
   "source": []
  },
  {
   "cell_type": "code",
   "execution_count": null,
   "id": "1378756c",
   "metadata": {},
   "outputs": [],
   "source": []
  },
  {
   "cell_type": "code",
   "execution_count": null,
   "id": "bf4635ad",
   "metadata": {
    "scrolled": true
   },
   "outputs": [],
   "source": []
  },
  {
   "cell_type": "code",
   "execution_count": null,
   "id": "2adeae16",
   "metadata": {},
   "outputs": [],
   "source": []
  },
  {
   "cell_type": "code",
   "execution_count": null,
   "id": "10ed28cb",
   "metadata": {},
   "outputs": [],
   "source": []
  }
 ],
 "metadata": {
  "kernelspec": {
   "display_name": "Python 3 (ipykernel)",
   "language": "python",
   "name": "python3"
  },
  "language_info": {
   "codemirror_mode": {
    "name": "ipython",
    "version": 3
   },
   "file_extension": ".py",
   "mimetype": "text/x-python",
   "name": "python",
   "nbconvert_exporter": "python",
   "pygments_lexer": "ipython3",
   "version": "3.9.7"
  }
 },
 "nbformat": 4,
 "nbformat_minor": 5
}
